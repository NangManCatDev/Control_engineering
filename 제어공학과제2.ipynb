{
  "nbformat": 4,
  "nbformat_minor": 0,
  "metadata": {
    "colab": {
      "provenance": [],
      "authorship_tag": "ABX9TyPg0tXZHB+ut6Nhqt4LYFw3",
      "include_colab_link": true
    },
    "kernelspec": {
      "name": "python3",
      "display_name": "Python 3"
    },
    "language_info": {
      "name": "python"
    }
  },
  "cells": [
    {
      "cell_type": "markdown",
      "metadata": {
        "id": "view-in-github",
        "colab_type": "text"
      },
      "source": [
        "<a href=\"https://colab.research.google.com/github/unclepark01/Control_engineering/blob/main/%EC%A0%9C%EC%96%B4%EA%B3%B5%ED%95%99%EA%B3%BC%EC%A0%9C2.ipynb\" target=\"_parent\"><img src=\"https://colab.research.google.com/assets/colab-badge.svg\" alt=\"Open In Colab\"/></a>"
      ]
    },
    {
      "cell_type": "markdown",
      "source": [
        "### **p2.7**   \n",
        "***\n",
        "* **다음 회로를 KCL을 이용해 수식으로 표현하면 다음과 같다.**\n",
        "   \n",
        "<br>   \n",
        "\n",
        "$$\n",
        "\\frac{V_{1}(t)-0}{R}=C\\frac{\\text{d}(0-V_{2}(t))}{\\text{d}t}\\rightarrow\\frac{\\text{d}V_{2}(t)}{\\text{d}t}=-\\frac{V_{1}(t)}{RC}\\rightarrow V_{2}(t)=-\\frac{1}{RC}\\int_{}^{} V_{1}(t)dt\n",
        "$$   \n",
        "<br>\n",
        "* **위 식을 라플라스 변환을 취해주자.**   \n",
        "   \n",
        "<br>   \n",
        "\n",
        "$$\n",
        "V_{2}(t)=-\\frac{1}{RC}\\int_{}^{} V_{1}(t)dt\\rightarrow V_{2}(s)=-\\frac{1}{RC}\\frac{1}{s}V_{1}(s)\\rightarrow \\frac{V_{2}(s)}{V_{1}(s)}=G(s)=-\\frac{1}{sRC}\n",
        "$$   \n",
        "\n",
        "<br>   \n",
        "\n",
        "$$\n",
        "\\therefore G(s)=-\\frac{1}{sRC}\n",
        "$$   \n",
        "<br>   \n",
        "\n",
        "### **p2.12**   \n",
        "***\n",
        "* **다음 블록선도의 전달함수를 수식으로 나타내면 다음과 같다.**   \n",
        "\n",
        "<br>   \n",
        "   \n",
        "$$\n",
        "\\frac{Y(s)}{R(s)}=G(s)=\\frac{K}{s+15},\\; Y(s)=\\frac{K}{s(s+15)}\n",
        "$$   \n",
        "\n",
        "<br>   \n",
        "* **t가 무한으로 갈 때 최종값 정리에 의해 s는 0에 가까워 지는데 값은 다음과 같다.**   \n",
        "\n",
        "<br>   \n",
        "\n",
        "$$\n",
        "\\lim_{t \\rightarrow \\infty}y(t) = \\lim_{s \\rightarrow 0}sY(s) = \\lim_{s \\rightarrow 0}\\frac{K}{s+15}=\\frac{K}{15}\n",
        "$$\n",
        "   \n",
        "<br>   \n",
        "* **최종값이 1이 되기 위해선 K는 다음과 같아야 한다.**   \n",
        "<br>   \n",
        "$$\n",
        "\\frac{K}{15}=1 \\rightarrow \\therefore K=15\n",
        "$$\n",
        "<br>   \n",
        "\n",
        "### **p.2.15**   \n",
        "***\n",
        "* **입력 u(t)에 대하여 응답 위치 x(t)에 대한 방정식을 세우면 다음과 같다.**   \n",
        "<br>   \n",
        "   $$\n",
        "   m\\frac{d^{2}x}{dt^{2}}+b\\frac{dx}{dt}+kx=\\delta(t)\n",
        "   $$\n",
        "<br>\n",
        "\n",
        "* **위 방정식의 라플라스 변환을 하면 다음과 같다.**   \n",
        "<br>   \n",
        "$$\n",
        "ms^{2}X(s)+bsX(s)+kX(s)=\\delta (s) \\rightarrow (ms^{2}+bs+k)X(s)=\\delta (s) \\rightarrow X(s) = \\frac{\\delta (s)}{ms^{2}+bs+k}\n",
        "$$\n",
        "<br>\n",
        "$$\n",
        "\\delta (s)=1 \\rightarrow X(s)=\\frac{1}{ms^{2}+bs+k}\n",
        "$$   \n",
        "<br>   \n",
        "* **부분 분수로 나타낸다면 다음과 같이 나타낼 수 있다.**   \n",
        "<br>   \n",
        "$$\n",
        "X(s)=\\frac{K_{1}}{s-s_{1}}+\\frac{K_{2}}{s-s_{2}}\\rightarrow  s_{1},s_{2}=\\frac{-b\\pm\\sqrt{b^{2}-4mk}}{2m}\n",
        "$$\n",
        "<br>   \n",
        "* **이 때 X(s)는 다음과 같은 꼴로도 나타낼 수 있는데**   \n",
        "<br>   \n",
        "$$\n",
        "X(s)=\\frac{1}{s^{2}+2\\zeta \\omega_{n}+\\omega_{n}^{2}}\\;,\\;\\zeta=\\frac{b}{2\\sqrt{km}}\\;,\\;\\omega_{n}=\\sqrt{\\frac{k}{m}}\n",
        "$$\n",
        "<br>   \n",
        "* **$\\zeta $의 값이 얼마냐에 따라 시스템의 응답 모양이 달라질 수 있다.**  \n",
        "<br>   \n",
        "$0<\\zeta<1$일 경우 부족감쇠 (**Under-Damping**)   \n",
        "$\\zeta=1$일 경우 임계감쇠 (**Critical-Damping**)   \n",
        "$\\zeta>1$일 경우 과다감쇠 (**Over-Damping**)   \n",
        "<br>    \n",
        "* **$0<\\zeta<1$에서 특성근이 실근이므로 해는 다음과 같다.**   \n",
        "<br>   \n",
        "$$   \n",
        "x(t)=K_{1}e^{\\frac{-b+\\sqrt{b^{2}-4mk}}{2m}t}+K_{2}e^{\\frac{-b-\\sqrt{b^{2}-4mk}}{2m}t}\n",
        "$$   \n",
        "<br>   \n",
        "* **$\\zeta=1$에서 특성근이 중근이므로 해는 다음과 같다.**  \n",
        "<br>\n",
        "$$   \n",
        "x(t)=K_{1}e^{-\\frac{b}{2m}t}+K_{2}xe^{-\\frac{b}{2m}t}\n",
        "$$   \n",
        "<br>   \n",
        "* **$\\zeta>1$에서 특성근이 허근이므로 해는 다음과 같다.**  \n",
        "<br>\n",
        "$$   \n",
        "x(t)=e^{-\\frac{b}{m}t}(K_{1}cos(\\frac{\\sqrt{b^{2}-4mk}}{2m}t)+K_{2}sin(\\frac{\\sqrt{b^{2}-4mk}}{2m}t))\n",
        "$$   \n",
        "<br>   \n",
        "\n",
        "### **p.2.26**   \n",
        "***   \n",
        "* **위 문제는 길이 변위가 2개 이기 때문에 각 물체마다 방정식을 세워줘야 한다.**   \n",
        "<br>   \n",
        "$$\n",
        "for\\;M\\rightarrow M\\frac{\\text{d}^{2}x}{\\text{d}t^{2}}+b(\\frac{\\text{d}x}{\\text{d}t}-\\frac{\\text{d}y}{\\text{d}t})+k(x-y)=F(t) \\\\ for\\;m\\rightarrow m\\frac{\\text{d}^{2}y}{\\text{d}t^{2}}+b(\\frac{\\text{d}y}{\\text{d}t}-\\frac{\\text{d}x}{\\text{d}t})+k(y-x)=0\n",
        "$$\n",
        "<br>   \n",
        "$$\n",
        "(ms^{2}+bs+k)Y(s)=(bs+k)X(s) \\\\ (Ms^{2}+bs+k)X(s)=(bs+k)Y(s)+F(s) \\\\ \\rightarrow X(s) = \\frac{(ms^{2}+bs+k)}{(bs+k)}Y(s) \\\\ \\rightarrow \\frac{(ms^{2}+bs+k)(Ms^{2}+bs+k)}{(bs+k)}Y(s)=(bs+k)Y(s)+F(s)\n",
        "$$\n",
        "<br>   \n",
        "$$\n",
        "\\frac{Y(s)}{F(s)}=\\frac{(bs+k)}{(ms^{2}+bs+k)(Ms^{2}+bs+k)-(bs+k)^{2}}\n",
        "$$   \n",
        "<br>   \n",
        "* **(bs+k)를 D라고 두고 식을 정리하면 최종적으로 다음과 같은 전달함수로 나타내진다.**   \n",
        "<br>   \n",
        "$$\n",
        "\\frac{Y(s)}{F(s)}=\\frac{D}{(ms^{2}+D)(Ms^{2}+D)-D^{2}}=\\frac{D}{Mms^{4}+(M+m)Ds^{2}} \\\\ \\therefore \\frac{Y(s)}{F(s)}=\\frac{bs+k}{Mms^{4}+(M+m)bs^{3}+(M+m)ks^{2}}\n",
        "$$   \n",
        "<br>   \n",
        "### **p.2.37**   \n",
        "***   \n",
        "* **이중스프링에 대해 각 추에 대한 미분방정식을 세우면 다음과 같다.**   \n",
        "<br>   \n",
        "$$\n",
        "for\\;m_{1}\\rightarrow m_{1}\\frac{\\text{d}^{2}x}{\\text{d}t^{2}}+K_{1}x+K_{2}(x-y)=0 \\\\  for\\;m_{2}\\rightarrow m_{2}\\frac{\\text{d}^{2}y}{\\text{d}t^{2}}+K_{2}(y-x)=u(t)\n",
        "$$   \n",
        "<br>   \n",
        "$$\n",
        "m_{1}\\frac{\\text{d}^{2}x}{\\text{d}t^{2}}+(K_{1}+K_{2})x=K_{2}y \\\\  m_{2}\\frac{\\text{d}^{2}y}{\\text{d}t^{2}}+K_{2}y=K_{2}x+u(t)\n",
        "$$   \n",
        "<br>   \n",
        "* **위 식을 라플라스 변환을 취해주면 다음과 같이 된다.**   \n",
        "<br>   \n",
        "$$   \n",
        "(m_{1}s^{2}+(K_{1}+K_{2}))X(s)=K_{2}Y(s) \\\\ (m_{2}s^{2}+K_{2})Y(s)=K_{2}X(s)+U(s)\n",
        "$$   \n",
        "<br>   \n",
        "$$\n",
        "X(s)=\\frac{K_{2}}{m_{1}s^{2}+(K_{1}+K_{2})}Y(s)\n",
        "$$   \n",
        "<br>   \n",
        "$$\n",
        "\\rightarrow (m_{2}s^{2}+K_{2}-\\frac{K_{2}^{2}}{m_{1}s^{2}+K_{1}+K_{2}})Y(s)=U(s) \\\\ Y(s)=\\frac{U(s)(m_{1}s^{2}+K_{1}+K_{2})}{(M_{2}s^{2}+K_{2})(m_{1}s^{2}+K_{1}+K_{2})-K_{2}^{2}}\n",
        "$$   \n",
        "<br>   \n",
        "* **$m_{1}=m_{2}=1,K_{1}=K_{2}=1$을 대입하고 전달 함수를 구하면 다음과 같이 구해진다.**   \n",
        "<br>   \n",
        "$$\n",
        "\\frac{Y(s)}{U(s)}=\\frac{s^{2}+2}{s^{3}+2s^{2}+s+1}\n",
        "$$   \n",
        "<br>   \n",
        "* **임펄스 함수를 입력으로 넣을 경우 다음과 같은 응답을 보인다.**   \n",
        "<br>   \n",
        "![image](https://github.com/unclepark01/aiApplication/assets/89457738/7aa30f60-ece4-484e-b8be-98626aeee7e5)   \n",
        "<br>   \n",
        "2018732032_박태준 제어공학1 과제 2"
      ],
      "metadata": {
        "id": "IyI3MTvu_2fX"
      }
    },
    {
      "cell_type": "code",
      "source": [
        "from google.colab import drive\n",
        "drive.mount('/content/drive')"
      ],
      "metadata": {
        "colab": {
          "base_uri": "https://localhost:8080/"
        },
        "id": "H7O4YcvEfJZB",
        "outputId": "c383538d-8702-4bc7-a451-8ffff4cf144f"
      },
      "execution_count": 2,
      "outputs": [
        {
          "output_type": "stream",
          "name": "stdout",
          "text": [
            "Mounted at /content/drive\n"
          ]
        }
      ]
    },
    {
      "cell_type": "code",
      "source": [
        "!jupyter nbconvert --to markdown \"/content/drive/MyDrive/Colab Notebooks/제어공학과제2.ipynb\""
      ],
      "metadata": {
        "colab": {
          "base_uri": "https://localhost:8080/"
        },
        "id": "b6AK1FZLffUw",
        "outputId": "d27b026c-fd95-4be3-ec4f-b719cbd917ac"
      },
      "execution_count": 4,
      "outputs": [
        {
          "output_type": "stream",
          "name": "stdout",
          "text": [
            "[NbConvertApp] Converting notebook /content/drive/MyDrive/Colab Notebooks/제어공학과제2.ipynb to markdown\n",
            "[NbConvertApp] Writing 4884 bytes to /content/drive/MyDrive/Colab Notebooks/제어공학과제2.md\n"
          ]
        }
      ]
    }
  ]
}